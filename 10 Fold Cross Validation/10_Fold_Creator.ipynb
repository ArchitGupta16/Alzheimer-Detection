{
  "cells": [
    {
      "cell_type": "code",
      "execution_count": 1,
      "metadata": {
        "id": "PqlwaGwt4rcT"
      },
      "outputs": [],
      "source": [
        "import os\n",
        "import cv2\n",
        "import numpy as np\n",
        "from tensorflow.keras.models import Sequential\n",
        "from tensorflow.keras.layers import Conv2D, MaxPooling2D, Flatten, Dense\n",
        "from tensorflow.keras.utils import to_categorical\n",
        "import pandas as pd\n",
        "from sklearn.model_selection import StratifiedKFold, StratifiedShuffleSplit"
      ]
    },
    {
      "cell_type": "code",
      "execution_count": 2,
      "metadata": {
        "id": "rXb5RidjErmI"
      },
      "outputs": [],
      "source": [
        "from tensorflow.keras.models import Sequential\n",
        "from tensorflow.keras.layers import Conv2D, MaxPooling2D,DepthwiseConv2D, Flatten, Dense, BatchNormalization, Dropout, GlobalAveragePooling2D\n",
        "from sklearn.model_selection import train_test_split\n",
        "from keras.metrics import Precision, Recall, AUC\n",
        "from tensorflow.keras.utils import to_categorical\n",
        "from sklearn.model_selection import train_test_split"
      ]
    },
    {
      "cell_type": "markdown",
      "metadata": {
        "id": "S3Q4ShKm4RoD"
      },
      "source": [
        "#### Dataset Load and Merge"
      ]
    },
    {
      "cell_type": "code",
      "execution_count": 1,
      "metadata": {
        "colab": {
          "base_uri": "https://localhost:8080/"
        },
        "id": "skPdzwYKbEhu",
        "outputId": "b9687c90-697d-47a7-cae1-4517c0e10617"
      },
      "outputs": [
        {
          "name": "stdout",
          "output_type": "stream",
          "text": [
            "Data shape: 6400\n"
          ]
        }
      ],
      "source": [
        "import os\n",
        "import cv2\n",
        "import numpy as np\n",
        "\n",
        "dataset_dir = \"D:/xtras/CNN/Brain Tumor/Rebuttal/Alzheimer_s Dataset\"\n",
        "\n",
        "categories = ['VeryMildDemented', 'MildDemented', 'ModerateDemented', 'NonDemented']\n",
        "\n",
        "mapped_dict = {'VeryMildDemented': 0, 'MildDemented': 0, 'ModerateDemented': 1, 'NonDemented': 2}\n",
        "\n",
        "ad_data = []\n",
        "labels = []\n",
        "\n",
        "def process_images(category, split):\n",
        "    path = os.path.join(dataset_dir, split, category)\n",
        "    class_num = mapped_dict[category]\n",
        "    # print(path.replace(\"/\", \"\\\\\"))\n",
        "    for img in os.listdir(path):\n",
        "        try:\n",
        "            img_array = cv2.imread(os.path.join(path, img), cv2.IMREAD_COLOR)\n",
        "            img_array = cv2.resize(img_array, (224, 224))\n",
        "            ad_data.append([img_array,class_num])\n",
        "        except Exception as e:\n",
        "            pass\n",
        "\n",
        "for category in categories:\n",
        "    process_images(category, 'train')\n",
        "    process_images(category, 'test')\n",
        "print(\"Data shape:\", len(ad_data))\n"
      ]
    },
    {
      "cell_type": "code",
      "execution_count": 5,
      "metadata": {
        "id": "zdZrWGP1T8r5"
      },
      "outputs": [],
      "source": [
        "dataset_dir = \"D:/xtras/CNN/Brain Tumor/Rebuttal/Axial\"\n",
        "\n",
        "categories = ['AD', 'CI', 'CN']\n",
        "mapped_dict_2 = {'CI': 0, 'AD': 1, 'CN': 2}\n",
        "\n",
        "adni_data = []\n",
        "labels = []\n",
        "\n",
        "for category in categories:\n",
        "    path = os.path.join(dataset_dir, '', category)\n",
        "    class_num = mapped_dict_2[category]\n",
        "\n",
        "    for img in os.listdir(path):\n",
        "        img_array = cv2.imread(os.path.join(path, img), cv2.IMREAD_COLOR)\n",
        "        img_array = cv2.resize(img_array, (224, 224))\n",
        "        adni_data.append([img_array, class_num])\n"
      ]
    },
    {
      "cell_type": "code",
      "execution_count": 6,
      "metadata": {},
      "outputs": [
        {
          "data": {
            "text/plain": [
              "5154"
            ]
          },
          "execution_count": 6,
          "metadata": {},
          "output_type": "execute_result"
        }
      ],
      "source": [
        "len(adni_data)"
      ]
    },
    {
      "cell_type": "code",
      "execution_count": 7,
      "metadata": {
        "id": "eaNTChW2c-xY"
      },
      "outputs": [],
      "source": [
        "data = adni_data + ad_data\n",
        "len(data)\n",
        "np.random.shuffle(data)"
      ]
    },
    {
      "cell_type": "markdown",
      "metadata": {
        "id": "OdbWuM414ubI"
      },
      "source": [
        "#### Saving Folds to drive"
      ]
    },
    {
      "cell_type": "code",
      "execution_count": 3,
      "metadata": {},
      "outputs": [],
      "source": [
        "from sklearn.model_selection import StratifiedKFold"
      ]
    },
    {
      "cell_type": "code",
      "execution_count": 11,
      "metadata": {
        "colab": {
          "base_uri": "https://localhost:8080/"
        },
        "id": "-293vlJohE-J",
        "outputId": "37788a41-f258-4bfb-92f2-d1740ea32fdb"
      },
      "outputs": [
        {
          "name": "stdout",
          "output_type": "stream",
          "text": [
            "Fold 1 saved.\n",
            "Fold 2 saved.\n",
            "Fold 3 saved.\n",
            "Fold 4 saved.\n",
            "Fold 5 saved.\n",
            "Fold 6 saved.\n",
            "Fold 7 saved.\n",
            "Fold 8 saved.\n",
            "Fold 9 saved.\n",
            "Fold 10 saved.\n"
          ]
        }
      ],
      "source": [
        "\n",
        "X = []\n",
        "y = []\n",
        "\n",
        "for features, label in data:\n",
        "    X.append(features)\n",
        "    y.append(label)\n",
        "\n",
        "X = np.array(X)\n",
        "y = np.array(y)\n",
        "\n",
        "# Initialize StratifiedKFold with 10 splits\n",
        "skf = StratifiedKFold(n_splits=10)\n",
        "\n",
        "base_path = \"Alzheimer Merged Dataset\"\n",
        "\n",
        "\n",
        "for fold, (train_index, test_index) in enumerate(skf.split(X, y)):\n",
        "    count = 0\n",
        "    fold_dir = os.path.join(base_path, f\"fold_{fold+1}\")\n",
        "    os.makedirs(fold_dir, exist_ok=True)\n",
        "\n",
        "    train_dir = os.path.join(fold_dir, 'train')\n",
        "    test_dir = os.path.join(fold_dir, 'test')\n",
        "    os.makedirs(train_dir, exist_ok=True)\n",
        "    os.makedirs(test_dir, exist_ok=True)\n",
        "\n",
        "    # Get train and test splits\n",
        "    X_train, X_test = X[train_index], X[test_index]\n",
        "    y_train, y_test = y[train_index], y[test_index]\n",
        "\n",
        "    # Save training images\n",
        "    for image_data, label in zip(X_train, y_train):\n",
        "        class_dir = os.path.join(train_dir, f'class_{label}')\n",
        "        os.makedirs(class_dir, exist_ok=True)\n",
        "        count += 1\n",
        "        save_path = os.path.join(class_dir, f\"{count}.jpg\")\n",
        "        cv2.imwrite(save_path, cv2.cvtColor(image_data, cv2.COLOR_RGB2BGR))\n",
        "\n",
        "    # Save test images\n",
        "    for image_data, label in zip(X_test, y_test):\n",
        "        class_dir = os.path.join(test_dir, f'class_{label}')\n",
        "        os.makedirs(class_dir, exist_ok=True)\n",
        "        count += 1\n",
        "        save_path = os.path.join(class_dir, f\"{count}.jpg\")\n",
        "        cv2.imwrite(save_path, cv2.cvtColor(image_data, cv2.COLOR_RGB2BGR))\n",
        "\n",
        "    print(f\"Fold {fold + 1} saved.\")\n"
      ]
    }
  ],
  "metadata": {
    "accelerator": "GPU",
    "colab": {
      "collapsed_sections": [
        "Fa9bGUwP4LpK",
        "S3Q4ShKm4RoD",
        "OdbWuM414ubI"
      ],
      "gpuType": "T4",
      "provenance": []
    },
    "kernelspec": {
      "display_name": "Python 3",
      "name": "python3"
    },
    "language_info": {
      "codemirror_mode": {
        "name": "ipython",
        "version": 3
      },
      "file_extension": ".py",
      "mimetype": "text/x-python",
      "name": "python",
      "nbconvert_exporter": "python",
      "pygments_lexer": "ipython3",
      "version": "3.9.19"
    }
  },
  "nbformat": 4,
  "nbformat_minor": 0
}
